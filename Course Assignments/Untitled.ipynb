{
 "cells": [
  {
   "cell_type": "markdown",
   "id": "64083188",
   "metadata": {},
   "source": [
    "# Deep Learning Assignment 1\n",
    "### Anirudh Kaushik 2020111015"
   ]
  },
  {
   "cell_type": "markdown",
   "id": "4f996f7f",
   "metadata": {},
   "source": [
    "## Question 1\n",
    "### Gradient Descent Method \n",
    "Consider learning a linear regression function (without bias term) as follows.\n",
    "    y = 2x1 + 3x2 + $epsilon\n",
    "Here, \u000f ∼ N (0, 0.01) (N is Gaussian distribution). Let 400 samples are gener\u0002ated uniformly randomly from [−4, 4]2\n",
    ". And then corresponding y values are\n",
    "generated using the equation above.\n"
   ]
  },
  {
   "cell_type": "code",
   "execution_count": null,
   "id": "d93f4378",
   "metadata": {},
   "outputs": [],
   "source": []
  }
 ],
 "metadata": {
  "kernelspec": {
   "display_name": "Python 3 (ipykernel)",
   "language": "python",
   "name": "python3"
  },
  "language_info": {
   "codemirror_mode": {
    "name": "ipython",
    "version": 3
   },
   "file_extension": ".py",
   "mimetype": "text/x-python",
   "name": "python",
   "nbconvert_exporter": "python",
   "pygments_lexer": "ipython3",
   "version": "3.9.7"
  }
 },
 "nbformat": 4,
 "nbformat_minor": 5
}
